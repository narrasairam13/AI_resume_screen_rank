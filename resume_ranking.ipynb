{
 "cells": [
  {
   "cell_type": "code",
   "execution_count": 2,
   "id": "063a47c0-0e83-45de-ba16-de97a65915b4",
   "metadata": {},
   "outputs": [
    {
     "name": "stdout",
     "output_type": "stream",
     "text": [
      "Requirement already satisfied: streamlit in c:\\users\\narra\\anaconda3\\envs\\rasa1\\lib\\site-packages (1.22.0)\n",
      "Requirement already satisfied: altair<5,>=3.2.0 in c:\\users\\narra\\anaconda3\\envs\\rasa1\\lib\\site-packages (from streamlit) (4.2.2)\n",
      "Requirement already satisfied: blinker>=1.0.0 in c:\\users\\narra\\anaconda3\\envs\\rasa1\\lib\\site-packages (from streamlit) (1.6.2)\n",
      "Requirement already satisfied: cachetools>=4.0 in c:\\users\\narra\\anaconda3\\envs\\rasa1\\lib\\site-packages (from streamlit) (5.3.3)\n",
      "Requirement already satisfied: click>=7.0 in c:\\users\\narra\\anaconda3\\envs\\rasa1\\lib\\site-packages (from streamlit) (8.1.7)\n",
      "Requirement already satisfied: importlib-metadata>=1.4 in c:\\users\\narra\\anaconda3\\envs\\rasa1\\lib\\site-packages (from streamlit) (7.0.1)\n",
      "Requirement already satisfied: numpy in c:\\users\\narra\\anaconda3\\envs\\rasa1\\lib\\site-packages (from streamlit) (1.26.4)\n",
      "Requirement already satisfied: packaging>=14.1 in c:\\users\\narra\\anaconda3\\envs\\rasa1\\lib\\site-packages (from streamlit) (24.1)\n",
      "Requirement already satisfied: pandas<3,>=0.25 in c:\\users\\narra\\anaconda3\\envs\\rasa1\\lib\\site-packages (from streamlit) (1.5.3)\n",
      "Requirement already satisfied: pillow>=6.2.0 in c:\\users\\narra\\anaconda3\\envs\\rasa1\\lib\\site-packages (from streamlit) (10.4.0)\n",
      "Requirement already satisfied: protobuf<4,>=3.12 in c:\\users\\narra\\anaconda3\\envs\\rasa1\\lib\\site-packages (from streamlit) (3.20.3)\n",
      "Requirement already satisfied: pyarrow>=4.0 in c:\\users\\narra\\anaconda3\\envs\\rasa1\\lib\\site-packages (from streamlit) (11.0.0)\n",
      "Requirement already satisfied: pympler>=0.9 in c:\\users\\narra\\anaconda3\\envs\\rasa1\\lib\\site-packages (from streamlit) (0.9)\n",
      "Requirement already satisfied: python-dateutil in c:\\users\\narra\\anaconda3\\envs\\rasa1\\lib\\site-packages (from streamlit) (2.8.2)\n",
      "Requirement already satisfied: requests>=2.4 in c:\\users\\narra\\anaconda3\\envs\\rasa1\\lib\\site-packages (from streamlit) (2.27.1)\n",
      "Requirement already satisfied: rich>=10.11.0 in c:\\users\\narra\\anaconda3\\envs\\rasa1\\lib\\site-packages (from streamlit) (12.5.1)\n",
      "Requirement already satisfied: tenacity<9,>=8.0.0 in c:\\users\\narra\\anaconda3\\envs\\rasa1\\lib\\site-packages (from streamlit) (8.2.3)\n",
      "Requirement already satisfied: toml in c:\\users\\narra\\anaconda3\\envs\\rasa1\\lib\\site-packages (from streamlit) (0.10.2)\n",
      "Requirement already satisfied: typing-extensions>=3.10.0.0 in c:\\users\\narra\\anaconda3\\envs\\rasa1\\lib\\site-packages (from streamlit) (4.11.0)\n",
      "Requirement already satisfied: tzlocal>=1.1 in c:\\users\\narra\\anaconda3\\envs\\rasa1\\lib\\site-packages (from streamlit) (5.2)\n",
      "Requirement already satisfied: validators>=0.2 in c:\\users\\narra\\anaconda3\\envs\\rasa1\\lib\\site-packages (from streamlit) (0.18.2)\n",
      "Requirement already satisfied: gitpython!=3.1.19 in c:\\users\\narra\\anaconda3\\envs\\rasa1\\lib\\site-packages (from streamlit) (3.1.43)\n",
      "Requirement already satisfied: pydeck>=0.1.dev5 in c:\\users\\narra\\anaconda3\\envs\\rasa1\\lib\\site-packages (from streamlit) (0.8.0)\n",
      "Requirement already satisfied: tornado>=6.0.3 in c:\\users\\narra\\anaconda3\\envs\\rasa1\\lib\\site-packages (from streamlit) (6.4.1)\n",
      "Requirement already satisfied: watchdog in c:\\users\\narra\\anaconda3\\envs\\rasa1\\lib\\site-packages (from streamlit) (1.0.2)\n",
      "Requirement already satisfied: entrypoints in c:\\users\\narra\\anaconda3\\envs\\rasa1\\lib\\site-packages (from altair<5,>=3.2.0->streamlit) (0.4)\n",
      "Requirement already satisfied: jinja2 in c:\\users\\narra\\anaconda3\\envs\\rasa1\\lib\\site-packages (from altair<5,>=3.2.0->streamlit) (3.1.4)\n",
      "Requirement already satisfied: jsonschema>=3.0 in c:\\users\\narra\\anaconda3\\envs\\rasa1\\lib\\site-packages (from altair<5,>=3.2.0->streamlit) (4.23.0)\n",
      "Requirement already satisfied: toolz in c:\\users\\narra\\anaconda3\\envs\\rasa1\\lib\\site-packages (from altair<5,>=3.2.0->streamlit) (0.11.2)\n",
      "Requirement already satisfied: colorama in c:\\users\\narra\\anaconda3\\envs\\rasa1\\lib\\site-packages (from click>=7.0->streamlit) (0.4.6)\n",
      "Requirement already satisfied: gitdb<5,>=4.0.1 in c:\\users\\narra\\anaconda3\\envs\\rasa1\\lib\\site-packages (from gitpython!=3.1.19->streamlit) (4.0.7)\n",
      "Requirement already satisfied: zipp>=0.5 in c:\\users\\narra\\anaconda3\\envs\\rasa1\\lib\\site-packages (from importlib-metadata>=1.4->streamlit) (3.17.0)\n",
      "Requirement already satisfied: pytz>=2020.1 in c:\\users\\narra\\anaconda3\\envs\\rasa1\\lib\\site-packages (from pandas<3,>=0.25->streamlit) (2021.3)\n",
      "Requirement already satisfied: six>=1.5 in c:\\users\\narra\\anaconda3\\envs\\rasa1\\lib\\site-packages (from python-dateutil->streamlit) (1.16.0)\n",
      "Requirement already satisfied: urllib3<1.27,>=1.21.1 in c:\\users\\narra\\anaconda3\\envs\\rasa1\\lib\\site-packages (from requests>=2.4->streamlit) (1.26.19)\n",
      "Requirement already satisfied: certifi>=2017.4.17 in c:\\users\\narra\\anaconda3\\envs\\rasa1\\lib\\site-packages (from requests>=2.4->streamlit) (2024.8.30)\n",
      "Requirement already satisfied: charset-normalizer~=2.0.0 in c:\\users\\narra\\anaconda3\\envs\\rasa1\\lib\\site-packages (from requests>=2.4->streamlit) (2.0.12)\n",
      "Requirement already satisfied: idna<4,>=2.5 in c:\\users\\narra\\anaconda3\\envs\\rasa1\\lib\\site-packages (from requests>=2.4->streamlit) (3.7)\n",
      "Requirement already satisfied: commonmark<0.10.0,>=0.9.0 in c:\\users\\narra\\anaconda3\\envs\\rasa1\\lib\\site-packages (from rich>=10.11.0->streamlit) (0.9.1)\n",
      "Requirement already satisfied: pygments<3.0.0,>=2.6.0 in c:\\users\\narra\\anaconda3\\envs\\rasa1\\lib\\site-packages (from rich>=10.11.0->streamlit) (2.11.2)\n",
      "Requirement already satisfied: tzdata in c:\\users\\narra\\anaconda3\\envs\\rasa1\\lib\\site-packages (from tzlocal>=1.1->streamlit) (2023.3)\n",
      "Requirement already satisfied: decorator>=3.4.0 in c:\\users\\narra\\anaconda3\\envs\\rasa1\\lib\\site-packages (from validators>=0.2->streamlit) (5.1.1)\n",
      "Requirement already satisfied: smmap<5,>=3.0.1 in c:\\users\\narra\\anaconda3\\envs\\rasa1\\lib\\site-packages (from gitdb<5,>=4.0.1->gitpython!=3.1.19->streamlit) (4.0.0)\n",
      "Requirement already satisfied: MarkupSafe>=2.0 in c:\\users\\narra\\anaconda3\\envs\\rasa1\\lib\\site-packages (from jinja2->altair<5,>=3.2.0->streamlit) (2.1.3)\n",
      "Requirement already satisfied: attrs>=22.2.0 in c:\\users\\narra\\anaconda3\\envs\\rasa1\\lib\\site-packages (from jsonschema>=3.0->altair<5,>=3.2.0->streamlit) (23.1.0)\n",
      "Requirement already satisfied: jsonschema-specifications>=2023.03.6 in c:\\users\\narra\\anaconda3\\envs\\rasa1\\lib\\site-packages (from jsonschema>=3.0->altair<5,>=3.2.0->streamlit) (2023.7.1)\n",
      "Requirement already satisfied: referencing>=0.28.4 in c:\\users\\narra\\anaconda3\\envs\\rasa1\\lib\\site-packages (from jsonschema>=3.0->altair<5,>=3.2.0->streamlit) (0.30.2)\n",
      "Requirement already satisfied: rpds-py>=0.7.1 in c:\\users\\narra\\anaconda3\\envs\\rasa1\\lib\\site-packages (from jsonschema>=3.0->altair<5,>=3.2.0->streamlit) (0.10.6)\n",
      "Note: you may need to restart the kernel to use updated packages.\n"
     ]
    }
   ],
   "source": [
    "pip install streamlit"
   ]
  },
  {
   "cell_type": "code",
   "execution_count": 3,
   "id": "4291d670-32a5-4d13-b44e-e0aa175ccfb0",
   "metadata": {},
   "outputs": [
    {
     "name": "stdout",
     "output_type": "stream",
     "text": [
      "Requirement already satisfied: pandas in c:\\users\\narra\\anaconda3\\envs\\rasa1\\lib\\site-packages (1.5.3)\n",
      "Requirement already satisfied: python-dateutil>=2.8.1 in c:\\users\\narra\\anaconda3\\envs\\rasa1\\lib\\site-packages (from pandas) (2.8.2)\n",
      "Requirement already satisfied: pytz>=2020.1 in c:\\users\\narra\\anaconda3\\envs\\rasa1\\lib\\site-packages (from pandas) (2021.3)\n",
      "Requirement already satisfied: numpy>=1.20.3 in c:\\users\\narra\\anaconda3\\envs\\rasa1\\lib\\site-packages (from pandas) (1.26.4)\n",
      "Requirement already satisfied: six>=1.5 in c:\\users\\narra\\anaconda3\\envs\\rasa1\\lib\\site-packages (from python-dateutil>=2.8.1->pandas) (1.16.0)\n",
      "Note: you may need to restart the kernel to use updated packages.\n"
     ]
    }
   ],
   "source": [
    "pip install pandas"
   ]
  },
  {
   "cell_type": "code",
   "execution_count": 4,
   "id": "abd2f393-efc2-4c1a-a338-313a46f3d7f2",
   "metadata": {},
   "outputs": [
    {
     "name": "stdout",
     "output_type": "stream",
     "text": [
      "Collecting PyPDF2\n",
      "  Downloading pypdf2-3.0.1-py3-none-any.whl.metadata (6.8 kB)\n",
      "Requirement already satisfied: typing_extensions>=3.10.0.0 in c:\\users\\narra\\anaconda3\\envs\\rasa1\\lib\\site-packages (from PyPDF2) (4.11.0)\n",
      "Downloading pypdf2-3.0.1-py3-none-any.whl (232 kB)\n",
      "Installing collected packages: PyPDF2\n",
      "Successfully installed PyPDF2-3.0.1\n",
      "Note: you may need to restart the kernel to use updated packages.\n"
     ]
    }
   ],
   "source": [
    "pip install PyPDF2"
   ]
  },
  {
   "cell_type": "code",
   "execution_count": 5,
   "id": "88c4d5bc-3b5e-4a94-81bc-ae420cbbb47d",
   "metadata": {},
   "outputs": [
    {
     "name": "stdout",
     "output_type": "stream",
     "text": [
      "Requirement already satisfied: scikit-learn in c:\\users\\narra\\anaconda3\\envs\\rasa1\\lib\\site-packages (0.20.4)\n",
      "Requirement already satisfied: numpy>=1.8.2 in c:\\users\\narra\\anaconda3\\envs\\rasa1\\lib\\site-packages (from scikit-learn) (1.26.4)\n",
      "Requirement already satisfied: scipy>=0.13.3 in c:\\users\\narra\\anaconda3\\envs\\rasa1\\lib\\site-packages (from scikit-learn) (1.13.1)\n",
      "Note: you may need to restart the kernel to use updated packages.\n"
     ]
    }
   ],
   "source": [
    "pip install scikit-learn"
   ]
  },
  {
   "cell_type": "code",
   "execution_count": 9,
   "id": "0abb971a-a29f-4cfb-a92d-69af2d531fae",
   "metadata": {},
   "outputs": [],
   "source": [
    "import streamlit as st\n",
    "from PyPDF2 import PdfReader\n",
    "import pandas as pd\n",
    "from sklearn.feature_extraction.text import TfidfVectorizer\n",
    "from sklearn.metrics.pairwise import cosine_similarity"
   ]
  },
  {
   "cell_type": "code",
   "execution_count": 12,
   "id": "6d70b87e-79bf-431a-9fe9-8952545a11ec",
   "metadata": {},
   "outputs": [],
   "source": [
    "file=r\"Resume(sairam).pdf\""
   ]
  },
  {
   "cell_type": "code",
   "execution_count": 20,
   "id": "adeaac88-5c56-4971-bb3f-59c4bbb60c4a",
   "metadata": {},
   "outputs": [],
   "source": [
    "# Function to extract text from PDF\n",
    "def extract_text_from_pdf(file):\n",
    "    pdf = PdfReader(file)\n",
    "    text = \"\"\n",
    "    for page in pdf.pages:\n",
    "        text += page.extract_text()\n",
    "    return text\n",
    "    "
   ]
  },
  {
   "cell_type": "code",
   "execution_count": 19,
   "id": "a1eb743b-5d63-47ea-9fb1-d66d02c4102b",
   "metadata": {},
   "outputs": [
    {
     "name": "stdout",
     "output_type": "stream",
     "text": [
      "NARRA SAIRAM  \n",
      "✆ +91 9398684560 | ✉  narrasairam13@gmail.com   | HANAMKONDA  \n",
      "PROFILE  \n",
      " \n",
      "Motivated and results -driven computer science graduate seeking a challenging position as Entry \n",
      "Level Software Developer. Possessing a solid foundation in programming language  .To work for \n",
      "the progressive Organisation to the best of my ability and to contribute successfully  in the \n",
      "overall development of the Organisation.  \n",
      "WORK EXPERIENCE  \n",
      " \n",
      "Fresher  \n",
      "PROJECTS   \n",
      " \n",
      "• AUTO INSURANCE FRAUD DETECTION USING MACHINE LEARNING                          - 2024  \n",
      "A Machine Learning Model used to detect Fraud Insurance Claims                                  \n",
      "EDUCATIONAL QUALIFICATIONS:  \n",
      " \n",
      "• GRADUATION  \n",
      "               BSc Computer Science University Arts & Science College Hanamkonda                      - 2023   \n",
      "• INTERMEDIATE  \n",
      "NRI JUNIOR COLLEGE Erragattugutta Hanamkonda                                                      - 2019  \n",
      "• SSC  \n",
      "Z.P.P SECONDARY HIGH SCHOOL  peddakodepaka                                                         - 2017  \n",
      " \n",
      "     COMPUTER SKILLS     \n",
      "• Packages : Ms word , excel   \n",
      "• Languages : python,machine \n",
      "leraning  \n",
      "  \n",
      "     SOFT SKILLS   \n",
      "● Collaboration and Presentation  \n",
      "● Precision and Communication   EXTRA -CURRICULAR ACTIVITIES   \n",
      "• Optimistic and Self Motivated.  \n",
      "• Quick learner and Independent.  \n",
      "• Adopt Conditions quickly  \n",
      "HOBBIES  \n",
      "● Playing cricket,chess  \n",
      "● Listening music  \n",
      " \n",
      "DECLARATION   \n",
      "       I hereby declare that all the above information mentioned is true with best of my \n",
      "knowledge and belief.      \n",
      "  \n",
      "  \n",
      "  \n",
      "                                                \n",
      "  \n",
      "  \n",
      "  \n",
      "  \n"
     ]
    }
   ],
   "source": []
  },
  {
   "cell_type": "code",
   "execution_count": 22,
   "id": "5346adba-c7be-43e0-8962-c8ea95db7c18",
   "metadata": {},
   "outputs": [],
   "source": [
    "# Function to rank resumes based on job description\n",
    "def rank_resumes(job_description, resumes):\n",
    "    # Combine job description with resumes\n",
    "    documents= [job_description] + resumes\n",
    "    vectorizer = TfidfVectorizer().fit_transform(documents)\n",
    "    vectors=vectorizer.toarray()\n",
    "\n",
    "    # Calculate cosine similarity\n",
    "    job_description_vector = vectors[0]\n",
    "    resume_vectors = vectors [1:]\n",
    "    cosine_similarities = cosine_similarity ([job_description_vector], resume_vectors).flatten()\n",
    "    \n",
    "    return cosine_similarities"
   ]
  },
  {
   "cell_type": "code",
   "execution_count": 23,
   "id": "fe4f6753-d769-43c4-891a-4874d57ebdf6",
   "metadata": {},
   "outputs": [
    {
     "name": "stderr",
     "output_type": "stream",
     "text": [
      "2025-03-09 12:49:13.621 \n",
      "  \u001b[33m\u001b[1mWarning:\u001b[0m to view this Streamlit app on a browser, run it with the following\n",
      "  command:\n",
      "\n",
      "    streamlit run C:\\Users\\narra\\anaconda3\\envs\\rasa1\\lib\\site-packages\\ipykernel_launcher.py [ARGUMENTS]\n",
      "2025-03-09 12:49:13.621 Session state does not function when running a script without `streamlit run`\n"
     ]
    }
   ],
   "source": [
    "# Streamlit app\n",
    "st.title(\"AI Resume Screening & Candidate Ranking System\")\n",
    "# Job description input\n",
    "st.header(\"Job Description\")\n",
    "job_description= st.text_area (\"Enter the job description\")"
   ]
  },
  {
   "cell_type": "code",
   "execution_count": null,
   "id": "8b4202d6-4e09-4119-b1fd-9adb991b4ab5",
   "metadata": {},
   "outputs": [],
   "source": [
    "# File uploader\n",
    "st.header(\"Upload Resumes\")\n",
    "uploaded_files = st.file_uploader(\"Upload PDF files\", type=[\"pdf\"], accept_multiple_files=True)"
   ]
  },
  {
   "cell_type": "code",
   "execution_count": null,
   "id": "8e218fd3-19a8-4514-98bb-e5d6672df465",
   "metadata": {},
   "outputs": [],
   "source": [
    "if uploaded_files and job_description:\n",
    "    st.header(\"Ranking Resumes\")\n",
    "    \n",
    "    resumes = []\n",
    "    for file in uploaded_files:\n",
    "        text = extract_text_from_pdf(file)\n",
    "        resumes.append(text)\n",
    "\n",
    "    # Rank resumes\n",
    "    scores = rank_resumes(job_description, resumes)\n",
    "\n",
    "    # Display scores\n",
    "    results = pd.DataFrame({\"Resume\": [file.name for file in uploaded_files], \"Score\": scores })\n",
    "    results = results.sort_values(by=\"Score\", ascending=False)\n",
    "    \n",
    "    st.write(results)"
   ]
  },
  {
   "cell_type": "code",
   "execution_count": null,
   "id": "36f4c751-0615-4257-9dd4-36253f1e31e9",
   "metadata": {},
   "outputs": [],
   "source": []
  }
 ],
 "metadata": {
  "kernelspec": {
   "display_name": "Python 3 (ipykernel)",
   "language": "python",
   "name": "python3"
  },
  "language_info": {
   "codemirror_mode": {
    "name": "ipython",
    "version": 3
   },
   "file_extension": ".py",
   "mimetype": "text/x-python",
   "name": "python",
   "nbconvert_exporter": "python",
   "pygments_lexer": "ipython3",
   "version": "3.9.20"
  }
 },
 "nbformat": 4,
 "nbformat_minor": 5
}
